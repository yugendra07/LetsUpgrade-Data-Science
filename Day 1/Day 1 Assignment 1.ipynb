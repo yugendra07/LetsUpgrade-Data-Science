{
 "cells": [
  {
   "cell_type": "markdown",
   "metadata": {},
   "source": [
    "# Day - 1\n",
    "## Name - Yugendra Walavalkar"
   ]
  },
  {
   "cell_type": "markdown",
   "metadata": {},
   "source": [
    "## Question - 1"
   ]
  },
  {
   "cell_type": "markdown",
   "metadata": {},
   "source": [
    "##### Given the following jumbled word, OBANWRI guess the correct English word.\n",
    "- A. RANIBOW\n",
    "- B. RAINBOW\n",
    "- C. BOWRANI\n",
    "- D. ROBWANI"
   ]
  },
  {
   "cell_type": "markdown",
   "metadata": {},
   "source": [
    "Answer :- RAINBOW"
   ]
  },
  {
   "cell_type": "markdown",
   "metadata": {},
   "source": [
    "## Question - 2"
   ]
  },
  {
   "cell_type": "markdown",
   "metadata": {},
   "source": [
    "##### Write a program which prints “LETS UPGRADE”. (Please note that you have to print in ALL CAPS as given)¶"
   ]
  },
  {
   "cell_type": "code",
   "execution_count": 1,
   "metadata": {},
   "outputs": [
    {
     "name": "stdout",
     "output_type": "stream",
     "text": [
      "LETS UPGRADE\n"
     ]
    }
   ],
   "source": [
    "print(\"LETS UPGRADE\")"
   ]
  },
  {
   "cell_type": "markdown",
   "metadata": {},
   "source": [
    "## Question - 3"
   ]
  },
  {
   "cell_type": "markdown",
   "metadata": {},
   "source": [
    "##### Write a program that takes cost price and selling price as input and displays whether the transaction is a Profit or a Loss or Neither.\n",
    "###### INPUT FORMAT:\n",
    "    The first line contains the cost price.\n",
    "    The second line contains the selling price.\n",
    "\n",
    "###### OUTPUT FORMAT:\n",
    "    Print \"Profit\" if the transaction is a profit or \"Loss\" if it is a loss. If it is neither profit nor loss, \n",
    "    print \"Neither\". (You must not have quotes in your output)\n",
    "\n",
    "\n",
    "###### NOTE:\n",
    "Please stick to the input and output format. Don't add anything extra like 'Enter cost price', 'Enter selling price',\n",
    "etc."
   ]
  },
  {
   "cell_type": "code",
   "execution_count": 3,
   "metadata": {},
   "outputs": [
    {
     "name": "stdout",
     "output_type": "stream",
     "text": [
      "20\n",
      "30\n",
      "Profit\n"
     ]
    }
   ],
   "source": [
    "# getting cost price and selling price from user\n",
    "cp = int(input())\n",
    "sp = int(input())\n",
    "\n",
    "# condition for checking profit or loss or neither using if-elif statement\n",
    "if cp<sp:\n",
    "    print(\"Profit\")\n",
    "\n",
    "elif cp>sp:\n",
    "    print(\"Loss\")\n",
    "    \n",
    "else:\n",
    "    print(\"Neither\")"
   ]
  },
  {
   "cell_type": "markdown",
   "metadata": {},
   "source": [
    "## Question - 4"
   ]
  },
  {
   "cell_type": "markdown",
   "metadata": {},
   "source": [
    "##### Write a program that takes an amount in Euros as input. You need to find its equivalent in Rupees and display it. Assume 1 Euro equals Rs. 80"
   ]
  },
  {
   "cell_type": "code",
   "execution_count": 4,
   "metadata": {},
   "outputs": [
    {
     "name": "stdout",
     "output_type": "stream",
     "text": [
      "20\n",
      "1600\n"
     ]
    }
   ],
   "source": [
    "# getting value of euro from user\n",
    "euro = int(input())\n",
    "\n",
    "# converting the euro into rupees by assuming 1 euro = Rs.80\n",
    "rupees = euro * 80\n",
    "\n",
    "# printing the value after converting euro to rupees\n",
    "print(rupees)"
   ]
  },
  {
   "cell_type": "code",
   "execution_count": null,
   "metadata": {},
   "outputs": [],
   "source": []
  }
 ],
 "metadata": {
  "kernelspec": {
   "display_name": "Python 3",
   "language": "python",
   "name": "python3"
  },
  "language_info": {
   "codemirror_mode": {
    "name": "ipython",
    "version": 3
   },
   "file_extension": ".py",
   "mimetype": "text/x-python",
   "name": "python",
   "nbconvert_exporter": "python",
   "pygments_lexer": "ipython3",
   "version": "3.7.6"
  }
 },
 "nbformat": 4,
 "nbformat_minor": 4
}
