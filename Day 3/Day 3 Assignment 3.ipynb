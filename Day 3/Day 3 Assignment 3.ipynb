{
 "cells": [
  {
   "cell_type": "markdown",
   "metadata": {},
   "source": [
    "# Day - 3\n",
    "## Name - Yugendra Walavalkar"
   ]
  },
  {
   "cell_type": "markdown",
   "metadata": {},
   "source": [
    "## Question - 1"
   ]
  },
  {
   "cell_type": "markdown",
   "metadata": {},
   "source": [
    "##### Create a numpy array starting from 2 till 50 with a stepsize of 3."
   ]
  },
  {
   "cell_type": "code",
   "execution_count": 1,
   "metadata": {},
   "outputs": [
    {
     "name": "stdout",
     "output_type": "stream",
     "text": [
      "[ 2  5  8 11 14 17 20 23 26 29 32 35 38 41 44 47]\n"
     ]
    }
   ],
   "source": [
    "import numpy as np\n",
    "\n",
    "# creating a array using numpy arange\n",
    "arr = np.arange(2, 50, 3)\n",
    "\n",
    "# printing array\n",
    "print(arr)"
   ]
  },
  {
   "cell_type": "markdown",
   "metadata": {},
   "source": [
    "## Question - 2"
   ]
  },
  {
   "cell_type": "markdown",
   "metadata": {},
   "source": [
    "##### Accept two lists of 5 elements each from the user. Convert them to numpy arrays. Concatenate these arrays and print it. Also sort these arrays and print it."
   ]
  },
  {
   "cell_type": "code",
   "execution_count": 2,
   "metadata": {},
   "outputs": [
    {
     "name": "stdout",
     "output_type": "stream",
     "text": [
      "\n",
      "Enter the value for list 1 : 1\n",
      "\n",
      "Enter the value for list 1 : 3\n",
      "\n",
      "Enter the value for list 1 : 5\n",
      "\n",
      "Enter the value for list 1 : 7\n",
      "\n",
      "Enter the value for list 1 : 9\n",
      "\n",
      "Enter the value for list 2 : 2\n",
      "\n",
      "Enter the value for list 2 : 4\n",
      "\n",
      "Enter the value for list 2 : 6\n",
      "\n",
      "Enter the value for list 2 : 8\n",
      "\n",
      "Enter the value for list 2 : 10\n",
      "\n",
      "Array value for concatenated arr : [ 1  3  5  7  9  2  4  6  8 10]\n",
      "\n",
      "Sorted Array for concatenated arr : [ 1  2  3  4  5  6  7  8  9 10]\n"
     ]
    }
   ],
   "source": [
    "import numpy as np\n",
    "\n",
    "# creating a 2 empty list:\n",
    "l1 = []\n",
    "l2 = []\n",
    "\n",
    "# getting values for list 1 from user:\n",
    "for i in range(5):\n",
    "  x=int(input(\"\\nEnter the value for list 1 : \"))\n",
    "  l1.append(x)\n",
    "\n",
    "# getting values for list 2 from user:\n",
    "for i in range(5):\n",
    "  x=int(input(\"\\nEnter the value for list 2 : \"))\n",
    "  l2.append(x)\n",
    "\n",
    "# converting list into array:\n",
    "arr_1 = np.array(l1)\n",
    "arr_2 = np.array(l2)\n",
    "\n",
    "# concatenating 2 arrays:\n",
    "arr = np.concatenate((arr_1, arr_2))\n",
    "print(\"\\nArray value for concatenated arr :\",arr)\n",
    "\n",
    "# sorting up concatenated array\n",
    "sortArr = np.sort(arr)\n",
    "print(\"\\nSorted Array for concatenated arr :\",sortArr)"
   ]
  },
  {
   "cell_type": "markdown",
   "metadata": {},
   "source": [
    "## Question - 3"
   ]
  },
  {
   "cell_type": "markdown",
   "metadata": {},
   "source": [
    "##### Write a code snippet to find the dimensions of a ndarray and its size."
   ]
  },
  {
   "cell_type": "code",
   "execution_count": 3,
   "metadata": {},
   "outputs": [
    {
     "name": "stdout",
     "output_type": "stream",
     "text": [
      "\n",
      "Dimensions in array :  2\n",
      "\n",
      "Size of array :  8\n"
     ]
    }
   ],
   "source": [
    "import numpy as np\n",
    "\n",
    "# creating a array:\n",
    "arr = np.array([[1,2,3,4],[2,4,6,8]])\n",
    "\n",
    "# Printing array dimensions:\n",
    "print(\"\\nDimensions in array : \", arr.ndim)\n",
    "\n",
    "# Printing size of array:\n",
    "print(\"\\nSize of array : \", arr.size)"
   ]
  },
  {
   "cell_type": "markdown",
   "metadata": {},
   "source": [
    "## Question - 4"
   ]
  },
  {
   "cell_type": "markdown",
   "metadata": {},
   "source": [
    "##### How to convert a 1D array into a 2D array? Demonstrate with the help of a code snippet\n",
    "Hint: np.newaxis, np.expand_dims"
   ]
  },
  {
   "cell_type": "code",
   "execution_count": 4,
   "metadata": {},
   "outputs": [
    {
     "name": "stdout",
     "output_type": "stream",
     "text": [
      "\n",
      "Shape of Array : (10,)\n",
      "\n",
      "Shape of 2d Array in row major : (1, 10)\n",
      "\n",
      "Shape of 2d Array in column major : (10, 1)\n"
     ]
    }
   ],
   "source": [
    "import numpy as np\n",
    "\n",
    "# creating a array:\n",
    "arr = np.arange(10)\n",
    "print(\"\\nShape of Array :\",arr.shape)\n",
    "\n",
    "# converting using newaxis in row wise:\n",
    "row_arr = arr[np.newaxis, :]\n",
    "print(\"\\nShape of 2d Array in row major :\",row_arr.shape)\n",
    "\n",
    "# converting using newaxis in column wise:\n",
    "col_arr = arr[:, np.newaxis]\n",
    "print(\"\\nShape of 2d Array in column major :\",col_arr.shape)"
   ]
  },
  {
   "cell_type": "markdown",
   "metadata": {},
   "source": [
    "## Question - 5"
   ]
  },
  {
   "cell_type": "markdown",
   "metadata": {},
   "source": [
    "##### Consider two square numpy arrays. Stack them vertically and horizontally.\n",
    "Hint: Use vstack(), hstack()"
   ]
  },
  {
   "cell_type": "code",
   "execution_count": 5,
   "metadata": {},
   "outputs": [
    {
     "name": "stdout",
     "output_type": "stream",
     "text": [
      "[['1' '2' '3']\n",
      " ['4' '5' '6']\n",
      " ['7' '8' '9']\n",
      " ['a' 'b' 'c']\n",
      " ['d' 'e' 'f']\n",
      " ['g' 'h' 'i']]\n",
      "\n",
      "[['1' '2' '3' 'a' 'b' 'c']\n",
      " ['4' '5' '6' 'd' 'e' 'f']\n",
      " ['7' '8' '9' 'g' 'h' 'i']]\n"
     ]
    }
   ],
   "source": [
    "import numpy as np\n",
    "\n",
    "# creating a arrays with values:\n",
    "arr1=np.array([[1,2,3],[4,5,6],[7,8,9]])\n",
    "arr2=np.array([[\"a\",\"b\",\"c\"],[\"d\",\"e\",\"f\"],[\"g\",\"h\",\"i\"]])\n",
    "\n",
    "# stacking and printing the value\n",
    "print(np.vstack((arr1,arr2)))\n",
    "print()\n",
    "print(np.hstack((arr1,arr2)))"
   ]
  },
  {
   "cell_type": "markdown",
   "metadata": {},
   "source": [
    "## Question - 6"
   ]
  },
  {
   "cell_type": "markdown",
   "metadata": {},
   "source": [
    "##### How to get unique items and counts of unique items?"
   ]
  },
  {
   "cell_type": "code",
   "execution_count": 6,
   "metadata": {},
   "outputs": [
    {
     "name": "stdout",
     "output_type": "stream",
     "text": [
      "[[ 1  2]\n",
      " [ 3  2]\n",
      " [ 5  2]\n",
      " [ 6  1]\n",
      " [ 7  2]\n",
      " [ 8  1]\n",
      " [ 9  1]\n",
      " [10  1]\n",
      " [25  2]\n",
      " [29  1]]\n"
     ]
    }
   ],
   "source": [
    "import numpy as np\n",
    "\n",
    "# creating a array: \n",
    "arr_1 = np.array([1, 3, 5, 1, 25, 29, 25, 3, 7, 9, 5, 6, 10, 8, 7])\n",
    "\n",
    "# getting unique charater and its count:\n",
    "unique, counts = np.unique(arr_1, return_counts=True)\n",
    "\n",
    "# making arr:\n",
    "arr = np.asarray((unique, counts)).T\n",
    "\n",
    "print(arr)"
   ]
  },
  {
   "cell_type": "code",
   "execution_count": null,
   "metadata": {},
   "outputs": [],
   "source": []
  }
 ],
 "metadata": {
  "kernelspec": {
   "display_name": "Python 3",
   "language": "python",
   "name": "python3"
  },
  "language_info": {
   "codemirror_mode": {
    "name": "ipython",
    "version": 3
   },
   "file_extension": ".py",
   "mimetype": "text/x-python",
   "name": "python",
   "nbconvert_exporter": "python",
   "pygments_lexer": "ipython3",
   "version": "3.7.6"
  }
 },
 "nbformat": 4,
 "nbformat_minor": 4
}
