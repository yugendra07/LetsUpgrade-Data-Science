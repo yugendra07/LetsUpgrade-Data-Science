{
 "cells": [
  {
   "cell_type": "markdown",
   "metadata": {},
   "source": [
    "# Day - 2\n",
    "## Name - Yugendra Walavalkar"
   ]
  },
  {
   "cell_type": "markdown",
   "metadata": {},
   "source": [
    "## Question - 1"
   ]
  },
  {
   "cell_type": "markdown",
   "metadata": {},
   "source": [
    "##### Create an empty list. Accept 10 numbers from the user and append to it the list if it is an even number."
   ]
  },
  {
   "cell_type": "code",
   "execution_count": 1,
   "metadata": {},
   "outputs": [
    {
     "name": "stdout",
     "output_type": "stream",
     "text": [
      "2\n",
      "4\n",
      "6\n",
      "7\n",
      "8\n",
      "10\n",
      "15\n",
      "16\n",
      "48\n",
      "56\n",
      " \n",
      "Final List:\n",
      "[2, 4, 6, 8, 10, 16, 48, 56]\n"
     ]
    }
   ],
   "source": [
    "m_list = []\n",
    "for i in range(10):\n",
    "    num = int(input())\n",
    "    if(num%2 == 0):\n",
    "        m_list.append(num)\n",
    "print(\" \")       \n",
    "print(\"Final List:\")\n",
    "print(m_list)"
   ]
  },
  {
   "cell_type": "markdown",
   "metadata": {},
   "source": [
    "## Question - 2"
   ]
  },
  {
   "cell_type": "markdown",
   "metadata": {},
   "source": [
    "##### Create a notebook on LIST COMPREHENSION. This exercise is to put you in a Self learning mode"
   ]
  },
  {
   "cell_type": "code",
   "execution_count": 2,
   "metadata": {},
   "outputs": [
    {
     "name": "stdout",
     "output_type": "stream",
     "text": [
      "[2, 4, 6, 8]\n"
     ]
    }
   ],
   "source": [
    "# creating a list\n",
    "lst = [1, 2, 3, 4, 5, 6, 7, 8]\n",
    "\n",
    "# list comprehensions\n",
    "even_lst = [i for i in lst if i%2==0 ]\n",
    "\n",
    "print(even_lst)"
   ]
  },
  {
   "cell_type": "markdown",
   "metadata": {},
   "source": [
    "## Question - 3"
   ]
  },
  {
   "cell_type": "markdown",
   "metadata": {},
   "source": [
    "##### Given a number n, you have to write a program that generates a dictionary d which contains (i, i*i), where i is from 1 to n (both included)."
   ]
  },
  {
   "cell_type": "code",
   "execution_count": 3,
   "metadata": {},
   "outputs": [
    {
     "name": "stdout",
     "output_type": "stream",
     "text": [
      "10\n",
      "{1: 1, 2: 4, 3: 9, 4: 16, 5: 25, 6: 36, 7: 49, 8: 64, 9: 81, 10: 100}\n"
     ]
    }
   ],
   "source": [
    "# creating a empty dict\n",
    "dict = {}\n",
    "\n",
    "#  getting value for \"n\" from user\n",
    "n = int(input())\n",
    "\n",
    "for i in range(1,n+1):\n",
    "  dict[i] = i*i\n",
    "\n",
    "print(dict)"
   ]
  },
  {
   "cell_type": "markdown",
   "metadata": {},
   "source": [
    "## Question - 4"
   ]
  },
  {
   "cell_type": "markdown",
   "metadata": {},
   "source": [
    "##### Write a program to compute the distance between the current position after a sequence of movement and original point. If the distance is a float, then just print the nearest integer (use round() function for that and then convert it into an integer)."
   ]
  },
  {
   "cell_type": "code",
   "execution_count": 4,
   "metadata": {},
   "outputs": [
    {
     "name": "stdout",
     "output_type": "stream",
     "text": [
      "4\n",
      "UP 5\n",
      "DOWN 3\n",
      "LEFT 3\n",
      "RIGHT 2\n",
      "2\n"
     ]
    }
   ],
   "source": [
    "pos = {\"x\":0,\"y\":0}\n",
    "\n",
    "# getting movement from user\n",
    "n = int(input())\n",
    "\n",
    "# for loop\n",
    "for i in range (n):\n",
    "    move =  input().split(\" \")      # ACCEPT MOVEMENT COMMAND AND STORE AS A LIST\n",
    "    \n",
    "    if move[0].lower() == \"up\":     # EXTRACT DIRECTION AND COMPARE\n",
    "        pos[\"y\"] += int(move[1])    # INCREMENT/DECREMENT APPROPRIATE CO-ORDINATES\n",
    "    \n",
    "    elif move[0].lower() == \"down\":\n",
    "        pos[\"y\"] -= int(move[1])\n",
    "    \n",
    "    elif move[0].lower() == \"left\":\n",
    "        pos[\"x\"] -= int(move[1])\n",
    "    \n",
    "    elif move[0].lower() == \"right\":\n",
    "        pos[\"x\"] += int(move[1])\n",
    "\n",
    "#  printing the result\n",
    "\n",
    "print(int(round((pos[\"x\"]**2 + pos[\"y\"]**2)**0.5)))   # DISTANCE FROM ORIGIN"
   ]
  },
  {
   "cell_type": "code",
   "execution_count": null,
   "metadata": {},
   "outputs": [],
   "source": []
  }
 ],
 "metadata": {
  "kernelspec": {
   "display_name": "Python 3",
   "language": "python",
   "name": "python3"
  },
  "language_info": {
   "codemirror_mode": {
    "name": "ipython",
    "version": 3
   },
   "file_extension": ".py",
   "mimetype": "text/x-python",
   "name": "python",
   "nbconvert_exporter": "python",
   "pygments_lexer": "ipython3",
   "version": "3.7.6"
  }
 },
 "nbformat": 4,
 "nbformat_minor": 4
}
